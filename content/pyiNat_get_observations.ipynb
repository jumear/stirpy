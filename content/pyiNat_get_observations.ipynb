{
  "metadata": {
    "kernelspec": {
      "name": "python",
      "display_name": "Python (Pyodide)",
      "language": "python"
    },
    "language_info": {
      "codemirror_mode": {
        "name": "python",
        "version": 3
      },
      "file_extension": ".py",
      "mimetype": "text/x-python",
      "name": "python",
      "nbconvert_exporter": "python",
      "pygments_lexer": "ipython3",
      "version": "3.8"
    }
  },
  "nbformat_minor": 4,
  "nbformat": 4,
  "cells": [
    {
      "cell_type": "markdown",
      "source": "# pyiNaturalist Get Observations Example\n- Link: https://jumear.github.io/stirpy/lab?path=pyiNat_get_observations.ipynb\r- \nGitHub Repo: https://github.com/jumear/stirpy",
      "metadata": {}
    },
    {
      "cell_type": "markdown",
      "source": "[pyiNaturalist](https://github.com/pyinat/pyinaturalist) is a popular package for working with data from iNaturalist. It can help simplify the process of making requests with the API, and it provides a preview print function that displays results in a simplified human-friendly format. It can also transform the API's JSON response into a model object format that may or may not be easier to work with than JSON mapped to a dict (or list of dicts). See [pyiNaturalist's documentation](https://pyinaturalist.readthedocs.io/) for more information on how to use the package.",
      "metadata": {}
    },
    {
      "cell_type": "code",
      "source": "# install the package and get all modules\n%pip install pyinaturalist\nfrom pyinaturalist import *\n\n# turn on logging to see the details of the network requests\nenable_logging()",
      "metadata": {
        "trusted": true
      },
      "outputs": [],
      "execution_count": null
    },
    {
      "cell_type": "code",
      "source": "# get observations using pyiNaturalist\n# this can get a single page of results or multiple pages in series\nresponse = get_observations(\n    user_id = 'pisum',\n    taxon_id = '47162,47781', # multiple values can be specified by using a comma-separated string\n    page = 'all', # setting this to 'all' this will get all observations (across multiple pages)\n)",
      "metadata": {
        "trusted": true
      },
      "outputs": [],
      "execution_count": null
    },
    {
      "cell_type": "code",
      "source": "# preview the contents of results in a human-friendly format (just the first 10 records)\npprint(response['results'][:10])",
      "metadata": {
        "trusted": true,
        "scrolled": true
      },
      "outputs": [],
      "execution_count": null
    },
    {
      "cell_type": "code",
      "source": "# print the actual contents results (just the first 2 records)\n# note: these results are still more or less the same as the raw JSON response from the API \nprint(response['results'][:2])",
      "metadata": {
        "trusted": true,
        "scrolled": true
      },
      "outputs": [],
      "execution_count": null
    },
    {
      "cell_type": "code",
      "source": "# apply the Observation model to the results\nobs = Observation.from_json_list(response)",
      "metadata": {
        "trusted": true,
        "scrolled": true
      },
      "outputs": [],
      "execution_count": null
    },
    {
      "cell_type": "code",
      "source": "# preview the contents of obs in a human-friendly format (just the first 10 records)\npprint(obs[:10])",
      "metadata": {
        "trusted": true,
        "scrolled": true
      },
      "outputs": [],
      "execution_count": null
    },
    {
      "cell_type": "code",
      "source": "# view the contents of obs (just the first 2 records)\n# note: this is formatted in a way that may be easier to use in Python, complete with data typing\nobs[:2]",
      "metadata": {
        "trusted": true,
        "scrolled": true
      },
      "outputs": [],
      "execution_count": null
    },
    {
      "cell_type": "code",
      "source": "# one benefit of the Observation model is the ability to use dot notation to refer to items in obs\nobs[0].identifications[0]",
      "metadata": {
        "trusted": true
      },
      "outputs": [],
      "execution_count": null
    },
    {
      "cell_type": "markdown",
      "source": "There's also a [sister package](https://github.com/pyinat/pyinaturalist-convert) that helps to transform data into useful formats, but as of 2024-02-07, it does not seem to work in Pyodide",
      "metadata": {}
    },
    {
      "cell_type": "code",
      "source": "# install the package and get all modules\n#%pip install pyinaturalist_convert[all]\n#from pyinaturalist_convert import *",
      "metadata": {
        "trusted": true
      },
      "outputs": [],
      "execution_count": null
    },
    {
      "cell_type": "code",
      "source": "#to_csv(obs, 'obs_from_pyinat.csv')",
      "metadata": {
        "trusted": true
      },
      "outputs": [],
      "execution_count": null
    }
  ]
}