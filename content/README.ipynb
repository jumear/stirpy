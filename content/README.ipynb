{
  "metadata": {
    "kernelspec": {
      "name": "python",
      "display_name": "Python (Pyodide)",
      "language": "python"
    },
    "language_info": {
      "codemirror_mode": {
        "name": "python",
        "version": 3
      },
      "file_extension": ".py",
      "mimetype": "text/x-python",
      "name": "python",
      "nbconvert_exporter": "python",
      "pygments_lexer": "ipython3",
      "version": "3.8"
    }
  },
  "nbformat_minor": 4,
  "nbformat": 4,
  "cells": [
    {
      "cell_type": "markdown",
      "source": "# Welcome\n\nYou've stumbled upon a collection of Jupyter Notebooks which contain Python code intended primarily to help iNaturalist users interact with data from the iNaturalist API. This collection is deployed via JupyterLite, which allows you to write and run code from any browser, without having to set up a Python environment on your machine.\n\nThere are also some general code examples in the misc folder, provided by Jupyter, which may provide some additional inspriation. It's unclear how the general examples from Jupyter are licensed, but feel free to use and adapt the iNaturalist related notebooks as you like.\n\n\n# Usage Notes\n\nThe main interface for this JupyterLite deployment is JupyterLab. If you've never used it before, you may want to read the JupyterLab Reference, accessible from the Help menu in the top toolbar.\n\nAny changes you make to the notebooks in this collection will be saved locally in your browser's storage. Any new files that you create will also get stored locally. Nothing gets sent back to the server that served up this collection to you. By default, your changes and outputs get automatically saved, but it is possible to turn off auto-save in the Settings menu in the top toolbar.\n\nYou should not worry about changing the original versions of the notebooks in this collection. They can be changed only by modifying the GitHub repo (https://github.com/jumear/stirpy) from which this collection is deployed (which most people will not have permissions to do). If you save changes on top of one of the deployed notebooks and want to revert to the original version, simply delete the notebook in the file tree. (Even though you have the option to delete any notebook, the originally deployed notebooks will never actually disappear from the file tree and wiil always remaian available, unless they are deleted from the GitHub repo.)\n\nIf you clear your browser's cache, switch to another browser, etc., you will no longer be able to see your changes / files. So if you want to store or use your items outside of this JupyterLite interface, you will need to download them to your machine (or to some other personal storage location).\n\n\n# Technical Notes\n\nThese notebooks were originally developed on the JupyterLite's version of the Pyodide kernel, which may differ slightly from the usual Python distributions that you most Python users use. Probably most significantly for iNaturalist users, the way Pyodide handles network requests is different (because it runs from the browser), and it comes with its own set of modules that handle some of the functions most users would handle using the `requests` and `urllib` modules. Currently, `requests` and `urllib` do not work on Pyodide without shimming. Since `pyinaturalist` uses the `requests` module under the hood, that means `pyinaturalist` does not work on Pyodide either.\n\nSome of the code here related to network requests is asynchronous. In case you've never worked with that sort of thing before, the most basic thing to know is that you must use `await` in front of calls to asynchronous functions, and any function that you define that includes `await` needs to be defined as an asynchronous function by putting `async` in front of `def`.",
      "metadata": {}
    }
  ]
}