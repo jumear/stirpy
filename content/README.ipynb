{
  "metadata": {
    "kernelspec": {
      "name": "python",
      "display_name": "Python (Pyodide)",
      "language": "python"
    },
    "language_info": {
      "codemirror_mode": {
        "name": "python",
        "version": 3
      },
      "file_extension": ".py",
      "mimetype": "text/x-python",
      "name": "python",
      "nbconvert_exporter": "python",
      "pygments_lexer": "ipython3",
      "version": "3.8"
    }
  },
  "nbformat_minor": 4,
  "nbformat": 4,
  "cells": [
    {
      "cell_type": "markdown",
      "source": "# Welcome\n\nYou've stumbled upon a collection of Jupyter Notebooks which contain Python code intended primarily to help [iNaturalist](https://www.inaturalist.org) users interact with data from the [iNaturalist API](https://api.inaturalist.org). This collection is deployed via [JupyterLite](https://jupyterlite.readthedocs.io), which allows you to write and run code from any browser, without having to set up a Python environment on your machine.\n\nThere are also some general code examples in the misc folder, provided by Jupyter, which may provide some additional inspriation. It's unclear how the general examples from Jupyter are licensed, but feel free to use and adapt the iNaturalist related notebooks as you like.",
      "metadata": {}
    },
    {
      "cell_type": "markdown",
      "source": "# Usage Notes\n\nThe main interface for this JupyterLite deployment is JupyterLab. If you've never used it before, you may want to read the JupyterLab Reference, accessible from the Help menu in the top toolbar.\n\nAny changes you make to the notebooks in this collection will be saved locally in your browser's storage. Any new files that you create will also get stored locally. Nothing gets sent back to the server that served up this collection to you. By default, your changes and outputs get automatically saved, but it is possible to turn off auto-save in the Settings menu in the top toolbar.\n\nYou should not worry about changing the original versions of the notebooks in this collection. They can be changed only by modifying the [GitHub repo](https://github.com/jumear/stirpy) from which this collection is deployed (which most people will not have permissions to do). If you save changes on top of one of the deployed notebooks and want to revert to the original version, simply delete the notebook in the file tree. (Even though you have the option to delete any notebook, the originally deployed notebooks will never actually disappear from the file tree and wiil always remain available, unless they are deleted from the GitHub repo.)\n\nIf you clear your browser's cache, switch to another browser, etc., you will no longer be able to see your changes / files. So if you want to store or use your items outside of this JupyterLite interface, you will need to download them to your machine (or to some other personal storage location).\n\nIt is possible to open notebooks from other repositories via a URL. For example, Jupyter's own deployment of JupyterLite includes an [intro notebook](https://github.com/jupyter/try-jupyter/blob/main/content/notebooks/Intro.ipynb) whose raw code can be found at: https://raw.githubusercontent.com/jupyter/try-jupyter/main/content/notebooks/Intro.ipynb. To open that intro notebook from the jumear/stirpy deployment of JupyterLite, you can use the following URL: https://jumear.github.io/stirpy/lab?fromURL=https://raw.githubusercontent.com/jupyter/try-jupyter/main/content/notebooks/Intro.ipynb. From the JupyterLab interface, it is also possible to go to File > Open from URL..., and then enter the URL of the raw code\n\nI've run into problems running code when I have multiple instances of the JupyterLite interface open on mulitple browser tabs / windows. If you run into problems excuting code and have multiple JupyterLite tabs open, try closing all but one of those tabs, and then run your code again.",
      "metadata": {}
    },
    {
      "cell_type": "markdown",
      "source": "# Technical Notes\n\nThese notebooks were originally developed on the JupyterLite's version of the [Pyodide](https://pyodide.org/) kernel, which may differ slightly from the usual Python distributions that you most Python users use. Here are some things that folks should be aware of:\n\n- Instead of installing packages using `!pip`, use `%pip`. \n\n- Under the hood, the way Pyodide handles network requests (because it runs from the browser) is different from the way typical Python installations will handle network requests. This has been shimmed internally in Pyodide as of early 2024, but there may still be lingering issues when making requests via the `requests`, `urllib`, `urllib2`, and `urllib3` modules or anything that runs on top of those, such as [`pyinaturalist`](https://github.com/pyinat/pyinaturalist). (For example, as of 2024-02-03, I get warnings when I make requests that go through `urllib3` (`requests` and `pyinaturlist` use `urllib3`), such as `/lib/python3.11/site-packages/urllib3/connectionpool.py:1103: InsecureRequestWarning: Unverified HTTPS request is being made to host`.)\n- Some of the code in this collection -- particularly the code related to network requests -- is asynchronous (some of Pyodide's network request modules run asynchronously). In case you've never worked with that sort of thing before, the most basic thing to know is that you must use `await` in front of calls to asynchronous functions, and any function that you define that includes an `await` call needs to be defined as an asynchronous function by putting `async` in front of `def`.",
      "metadata": {
        "jp-MarkdownHeadingCollapsed": true
      }
    }
  ]
}